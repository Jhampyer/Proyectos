{
 "cells": [
  {
   "cell_type": "markdown",
   "metadata": {},
   "source": [
    "## Primero es instalar la libreria"
   ]
  },
  {
   "cell_type": "code",
   "execution_count": 15,
   "metadata": {},
   "outputs": [
    {
     "name": "stdout",
     "output_type": "stream",
     "text": [
      "Collecting openpyxl\n",
      "  Downloading openpyxl-3.1.5-py2.py3-none-any.whl.metadata (2.5 kB)\n",
      "Collecting et-xmlfile (from openpyxl)\n",
      "  Downloading et_xmlfile-2.0.0-py3-none-any.whl.metadata (2.7 kB)\n",
      "Downloading openpyxl-3.1.5-py2.py3-none-any.whl (250 kB)\n",
      "Downloading et_xmlfile-2.0.0-py3-none-any.whl (18 kB)\n",
      "Installing collected packages: et-xmlfile, openpyxl\n",
      "Successfully installed et-xmlfile-2.0.0 openpyxl-3.1.5\n"
     ]
    }
   ],
   "source": [
    "!pip install openpyxl"
   ]
  },
  {
   "cell_type": "code",
   "execution_count": 1,
   "metadata": {},
   "outputs": [
    {
     "name": "stdout",
     "output_type": "stream",
     "text": [
      "Collecting docxtpl\n",
      "  Downloading docxtpl-0.19.1-py2.py3-none-any.whl.metadata (9.1 kB)\n",
      "Collecting python-docx>=1.1.1 (from docxtpl)\n",
      "  Downloading python_docx-1.1.2-py3-none-any.whl.metadata (2.0 kB)\n",
      "Collecting docxcompose (from docxtpl)\n",
      "  Downloading docxcompose-1.4.0.tar.gz (20 kB)\n",
      "  Installing build dependencies: started\n",
      "  Installing build dependencies: finished with status 'done'\n",
      "  Getting requirements to build wheel: started\n",
      "  Getting requirements to build wheel: finished with status 'done'\n",
      "  Preparing metadata (pyproject.toml): started\n",
      "  Preparing metadata (pyproject.toml): finished with status 'done'\n",
      "Collecting jinja2 (from docxtpl)\n",
      "  Downloading jinja2-3.1.5-py3-none-any.whl.metadata (2.6 kB)\n",
      "Collecting lxml (from docxtpl)\n",
      "  Downloading lxml-5.3.0-cp312-cp312-win_amd64.whl.metadata (3.9 kB)\n",
      "Requirement already satisfied: typing-extensions>=4.9.0 in c:\\users\\pc\\appdata\\local\\programs\\python\\python312\\lib\\site-packages (from python-docx>=1.1.1->docxtpl) (4.12.2)\n",
      "Requirement already satisfied: setuptools in c:\\users\\pc\\appdata\\local\\programs\\python\\python312\\lib\\site-packages (from docxcompose->docxtpl) (75.6.0)\n",
      "Requirement already satisfied: six in c:\\users\\pc\\appdata\\roaming\\python\\python312\\site-packages (from docxcompose->docxtpl) (1.16.0)\n",
      "Collecting babel (from docxcompose->docxtpl)\n",
      "  Downloading babel-2.16.0-py3-none-any.whl.metadata (1.5 kB)\n",
      "Collecting MarkupSafe>=2.0 (from jinja2->docxtpl)\n",
      "  Downloading MarkupSafe-3.0.2-cp312-cp312-win_amd64.whl.metadata (4.1 kB)\n",
      "Downloading docxtpl-0.19.1-py2.py3-none-any.whl (29 kB)\n",
      "Downloading python_docx-1.1.2-py3-none-any.whl (244 kB)\n",
      "Downloading lxml-5.3.0-cp312-cp312-win_amd64.whl (3.8 MB)\n",
      "   ---------------------------------------- 0.0/3.8 MB ? eta -:--:--\n",
      "   -- ------------------------------------- 0.3/3.8 MB ? eta -:--:--\n",
      "   -------- ------------------------------- 0.8/3.8 MB 2.4 MB/s eta 0:00:02\n",
      "   ---------------- ----------------------- 1.6/3.8 MB 2.5 MB/s eta 0:00:01\n",
      "   --------------------- ------------------ 2.1/3.8 MB 2.5 MB/s eta 0:00:01\n",
      "   --------------------------- ------------ 2.6/3.8 MB 2.5 MB/s eta 0:00:01\n",
      "   -------------------------------- ------- 3.1/3.8 MB 2.5 MB/s eta 0:00:01\n",
      "   -------------------------------------- - 3.7/3.8 MB 2.5 MB/s eta 0:00:01\n",
      "   ---------------------------------------- 3.8/3.8 MB 2.3 MB/s eta 0:00:00\n",
      "Downloading jinja2-3.1.5-py3-none-any.whl (134 kB)\n",
      "Downloading MarkupSafe-3.0.2-cp312-cp312-win_amd64.whl (15 kB)\n",
      "Downloading babel-2.16.0-py3-none-any.whl (9.6 MB)\n",
      "   ---------------------------------------- 0.0/9.6 MB ? eta -:--:--\n",
      "   -- ------------------------------------- 0.5/9.6 MB 2.4 MB/s eta 0:00:04\n",
      "   ---- ----------------------------------- 1.0/9.6 MB 2.4 MB/s eta 0:00:04\n",
      "   ----- ---------------------------------- 1.3/9.6 MB 2.2 MB/s eta 0:00:04\n",
      "   ------- -------------------------------- 1.8/9.6 MB 2.2 MB/s eta 0:00:04\n",
      "   ---------- ----------------------------- 2.6/9.6 MB 2.4 MB/s eta 0:00:03\n",
      "   ------------- -------------------------- 3.1/9.6 MB 2.5 MB/s eta 0:00:03\n",
      "   --------------- ------------------------ 3.7/9.6 MB 2.6 MB/s eta 0:00:03\n",
      "   ----------------- ---------------------- 4.2/9.6 MB 2.4 MB/s eta 0:00:03\n",
      "   ------------------- -------------------- 4.7/9.6 MB 2.4 MB/s eta 0:00:03\n",
      "   --------------------- ------------------ 5.2/9.6 MB 2.4 MB/s eta 0:00:02\n",
      "   ------------------------ --------------- 5.8/9.6 MB 2.4 MB/s eta 0:00:02\n",
      "   -------------------------- ------------- 6.3/9.6 MB 2.5 MB/s eta 0:00:02\n",
      "   ---------------------------- ----------- 6.8/9.6 MB 2.5 MB/s eta 0:00:02\n",
      "   ------------------------------ --------- 7.3/9.6 MB 2.5 MB/s eta 0:00:01\n",
      "   -------------------------------- ------- 7.9/9.6 MB 2.4 MB/s eta 0:00:01\n",
      "   ---------------------------------- ----- 8.4/9.6 MB 2.4 MB/s eta 0:00:01\n",
      "   ------------------------------------- -- 8.9/9.6 MB 2.5 MB/s eta 0:00:01\n",
      "   ---------------------------------------  9.4/9.6 MB 2.5 MB/s eta 0:00:01\n",
      "   ---------------------------------------- 9.6/9.6 MB 2.4 MB/s eta 0:00:00\n",
      "Building wheels for collected packages: docxcompose\n",
      "  Building wheel for docxcompose (pyproject.toml): started\n",
      "  Building wheel for docxcompose (pyproject.toml): finished with status 'done'\n",
      "  Created wheel for docxcompose: filename=docxcompose-1.4.0-py3-none-any.whl size=23297 sha256=52009bde646b91d0418a8dfa998c7f33851e1f23e77f3af981d9f2533748860d\n",
      "  Stored in directory: c:\\users\\pc\\appdata\\local\\pip\\cache\\wheels\\d4\\41\\77\\fea002cfe3f6bf960d7be78eb8feb1147bc6a862021c627c34\n",
      "Successfully built docxcompose\n",
      "Installing collected packages: MarkupSafe, lxml, babel, python-docx, jinja2, docxcompose, docxtpl\n",
      "Successfully installed MarkupSafe-3.0.2 babel-2.16.0 docxcompose-1.4.0 docxtpl-0.19.1 jinja2-3.1.5 lxml-5.3.0 python-docx-1.1.2\n"
     ]
    }
   ],
   "source": [
    "!pip install docxtpl"
   ]
  },
  {
   "cell_type": "markdown",
   "metadata": {},
   "source": [
    "## importamos las librerias"
   ]
  },
  {
   "cell_type": "code",
   "execution_count": 7,
   "metadata": {},
   "outputs": [],
   "source": [
    "import pandas as pd\n",
    "from datetime import datetime\n",
    "from docxtpl import DocxTemplate\n"
   ]
  },
  {
   "cell_type": "markdown",
   "metadata": {},
   "source": [
    "### importamos el documento plantilla"
   ]
  },
  {
   "cell_type": "code",
   "execution_count": 8,
   "metadata": {},
   "outputs": [],
   "source": [
    "doc = DocxTemplate(\"doc_1.docx\")"
   ]
  },
  {
   "cell_type": "markdown",
   "metadata": {},
   "source": [
    "### Creamos las variables costantes"
   ]
  },
  {
   "cell_type": "code",
   "execution_count": 9,
   "metadata": {},
   "outputs": [],
   "source": [
    "nombre = \"Jhampyer hernandez\"\n",
    "correo = \"correo@gmail.com\"\n",
    "telefono = \"123123123\"\n",
    "fecha = datetime.today().strftime(\"%d/%m/%Y\")"
   ]
  },
  {
   "cell_type": "markdown",
   "metadata": {},
   "source": [
    "### Volvemos las variables costantes en un diccionario"
   ]
  },
  {
   "cell_type": "markdown",
   "metadata": {},
   "source": [
    "El nombre de la llave tiene que ser el mismo el cual va a reemplazar en la plantilla"
   ]
  },
  {
   "cell_type": "code",
   "execution_count": 11,
   "metadata": {},
   "outputs": [],
   "source": [
    "contantes = {\"nombre\": nombre, \"correo\": correo, \"telefono\": telefono, \"fecha\": fecha}"
   ]
  },
  {
   "cell_type": "code",
   "execution_count": null,
   "metadata": {},
   "outputs": [],
   "source": [
    "# testeo\n",
    "doc.render(contantes)\n",
    "doc.save(f\"test.docx\")"
   ]
  },
  {
   "cell_type": "markdown",
   "metadata": {},
   "source": [
    "### Leemos el excel con las notas a procesar"
   ]
  },
  {
   "cell_type": "code",
   "execution_count": 16,
   "metadata": {},
   "outputs": [],
   "source": [
    "df = pd.read_excel(\"Excel_1.xlsx\")"
   ]
  },
  {
   "cell_type": "code",
   "execution_count": 20,
   "metadata": {},
   "outputs": [
    {
     "data": {
      "text/html": [
       "<div>\n",
       "<style scoped>\n",
       "    .dataframe tbody tr th:only-of-type {\n",
       "        vertical-align: middle;\n",
       "    }\n",
       "\n",
       "    .dataframe tbody tr th {\n",
       "        vertical-align: top;\n",
       "    }\n",
       "\n",
       "    .dataframe thead th {\n",
       "        text-align: right;\n",
       "    }\n",
       "</style>\n",
       "<table border=\"1\" class=\"dataframe\">\n",
       "  <thead>\n",
       "    <tr style=\"text-align: right;\">\n",
       "      <th></th>\n",
       "      <th>nombre del alumno</th>\n",
       "      <th>mat</th>\n",
       "      <th>fis</th>\n",
       "      <th>quim</th>\n",
       "    </tr>\n",
       "  </thead>\n",
       "  <tbody>\n",
       "    <tr>\n",
       "      <th>0</th>\n",
       "      <td>Juan Perez</td>\n",
       "      <td>2</td>\n",
       "      <td>2</td>\n",
       "      <td>6</td>\n",
       "    </tr>\n",
       "    <tr>\n",
       "      <th>1</th>\n",
       "      <td>Maria Lopez</td>\n",
       "      <td>3</td>\n",
       "      <td>4</td>\n",
       "      <td>4</td>\n",
       "    </tr>\n",
       "    <tr>\n",
       "      <th>2</th>\n",
       "      <td>Emily Marcatelli</td>\n",
       "      <td>5</td>\n",
       "      <td>5</td>\n",
       "      <td>2</td>\n",
       "    </tr>\n",
       "    <tr>\n",
       "      <th>3</th>\n",
       "      <td>Daniel Hernandez</td>\n",
       "      <td>2</td>\n",
       "      <td>7</td>\n",
       "      <td>4</td>\n",
       "    </tr>\n",
       "    <tr>\n",
       "      <th>4</th>\n",
       "      <td>Elena Silva</td>\n",
       "      <td>1</td>\n",
       "      <td>3</td>\n",
       "      <td>3</td>\n",
       "    </tr>\n",
       "    <tr>\n",
       "      <th>5</th>\n",
       "      <td>Elias llorente</td>\n",
       "      <td>5</td>\n",
       "      <td>4</td>\n",
       "      <td>4</td>\n",
       "    </tr>\n",
       "    <tr>\n",
       "      <th>6</th>\n",
       "      <td>Juan Soto</td>\n",
       "      <td>2</td>\n",
       "      <td>6</td>\n",
       "      <td>5</td>\n",
       "    </tr>\n",
       "    <tr>\n",
       "      <th>7</th>\n",
       "      <td>Jhonatan Pestana</td>\n",
       "      <td>4</td>\n",
       "      <td>2</td>\n",
       "      <td>7</td>\n",
       "    </tr>\n",
       "    <tr>\n",
       "      <th>8</th>\n",
       "      <td>Domingo Romero</td>\n",
       "      <td>5</td>\n",
       "      <td>3</td>\n",
       "      <td>8</td>\n",
       "    </tr>\n",
       "    <tr>\n",
       "      <th>9</th>\n",
       "      <td>Asly Perez</td>\n",
       "      <td>6</td>\n",
       "      <td>5</td>\n",
       "      <td>1</td>\n",
       "    </tr>\n",
       "  </tbody>\n",
       "</table>\n",
       "</div>"
      ],
      "text/plain": [
       "  nombre del alumno  mat  fis  quim\n",
       "0        Juan Perez    2    2     6\n",
       "1       Maria Lopez    3    4     4\n",
       "2  Emily Marcatelli    5    5     2\n",
       "3  Daniel Hernandez    2    7     4\n",
       "4       Elena Silva    1    3     3\n",
       "5    Elias llorente    5    4     4\n",
       "6         Juan Soto    2    6     5\n",
       "7  Jhonatan Pestana    4    2     7\n",
       "8    Domingo Romero    5    3     8\n",
       "9        Asly Perez    6    5     1"
      ]
     },
     "execution_count": 20,
     "metadata": {},
     "output_type": "execute_result"
    }
   ],
   "source": [
    "df"
   ]
  },
  {
   "cell_type": "markdown",
   "metadata": {},
   "source": [
    "## Codigo que creara cada documento con las notas de los alumnos."
   ]
  },
  {
   "cell_type": "code",
   "execution_count": 28,
   "metadata": {},
   "outputs": [
    {
     "name": "stdout",
     "output_type": "stream",
     "text": [
      "{'nombre_alumno': 'Juan Perez', 'mat': 2, 'fis': 2, 'quim': 6, 'nombre': 'Jhampyer hernandez', 'correo': 'correo@gmail.com', 'telefono': '123123123', 'fecha': '31/12/2024'}\n",
      "{'nombre_alumno': 'Maria Lopez', 'mat': 3, 'fis': 4, 'quim': 4, 'nombre': 'Jhampyer hernandez', 'correo': 'correo@gmail.com', 'telefono': '123123123', 'fecha': '31/12/2024'}\n",
      "{'nombre_alumno': 'Emily Marcatelli', 'mat': 5, 'fis': 5, 'quim': 2, 'nombre': 'Jhampyer hernandez', 'correo': 'correo@gmail.com', 'telefono': '123123123', 'fecha': '31/12/2024'}\n",
      "{'nombre_alumno': 'Daniel Hernandez', 'mat': 2, 'fis': 7, 'quim': 4, 'nombre': 'Jhampyer hernandez', 'correo': 'correo@gmail.com', 'telefono': '123123123', 'fecha': '31/12/2024'}\n",
      "{'nombre_alumno': 'Elena Silva', 'mat': 1, 'fis': 3, 'quim': 3, 'nombre': 'Jhampyer hernandez', 'correo': 'correo@gmail.com', 'telefono': '123123123', 'fecha': '31/12/2024'}\n",
      "{'nombre_alumno': 'Elias llorente', 'mat': 5, 'fis': 4, 'quim': 4, 'nombre': 'Jhampyer hernandez', 'correo': 'correo@gmail.com', 'telefono': '123123123', 'fecha': '31/12/2024'}\n",
      "{'nombre_alumno': 'Juan Soto', 'mat': 2, 'fis': 6, 'quim': 5, 'nombre': 'Jhampyer hernandez', 'correo': 'correo@gmail.com', 'telefono': '123123123', 'fecha': '31/12/2024'}\n",
      "{'nombre_alumno': 'Jhonatan Pestana', 'mat': 4, 'fis': 2, 'quim': 7, 'nombre': 'Jhampyer hernandez', 'correo': 'correo@gmail.com', 'telefono': '123123123', 'fecha': '31/12/2024'}\n",
      "{'nombre_alumno': 'Domingo Romero', 'mat': 5, 'fis': 3, 'quim': 8, 'nombre': 'Jhampyer hernandez', 'correo': 'correo@gmail.com', 'telefono': '123123123', 'fecha': '31/12/2024'}\n",
      "{'nombre_alumno': 'Asly Perez', 'mat': 6, 'fis': 5, 'quim': 1, 'nombre': 'Jhampyer hernandez', 'correo': 'correo@gmail.com', 'telefono': '123123123', 'fecha': '31/12/2024'}\n"
     ]
    }
   ],
   "source": [
    "for indice, filas in df.iterrows():\n",
    "    contenido = {\"nombre_alumno\":filas[\"nombre del alumno\"],\n",
    "                 \"mat\":filas[\"mat\"],\n",
    "                 \"fis\":filas[\"fis\"],\n",
    "                 \"quim\":filas[\"quim\"]}\n",
    "    contenido.update(contantes)\n",
    "    \n",
    "    doc.render(contenido)\n",
    "    doc.save(f\"notas de {filas[\"nombre del alumno\"]}.docx\")\n",
    "    \n",
    "    print(contenido)\n"
   ]
  }
 ],
 "metadata": {
  "kernelspec": {
   "display_name": "Python 3",
   "language": "python",
   "name": "python3"
  },
  "language_info": {
   "codemirror_mode": {
    "name": "ipython",
    "version": 3
   },
   "file_extension": ".py",
   "mimetype": "text/x-python",
   "name": "python",
   "nbconvert_exporter": "python",
   "pygments_lexer": "ipython3",
   "version": "3.12.3"
  }
 },
 "nbformat": 4,
 "nbformat_minor": 2
}
